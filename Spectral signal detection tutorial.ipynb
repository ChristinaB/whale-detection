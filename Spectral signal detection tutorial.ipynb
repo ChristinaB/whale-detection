{
 "cells": [
  {
   "cell_type": "markdown",
   "metadata": {},
   "source": [
    "## Using spectrogram cross-correlation to detect blue whale calls\n",
    "\n",
    "North East Pacific blue whales have distinct calls which are split into several segments. The spectrogram shows the A, B, and C call harmonics of the NEP blue whale (Dunn and Hernandez, 2009). The B call is the most powerful of the three, and is often the only one visible when a call is recorded of a whale some distance away from the recording instrument. For that reason, the B call is used to detect the whales acoustically. The relative consistency of blue whale call frequency modulation allows us to automatically detect calls through spectrogram cross correlation.\n",
    "\n",
    "For this exercise, we are using data from a ocean-bottom seismometer with a sample rate of 50 Hz.\n"
   ]
  },
  {
   "cell_type": "markdown",
   "metadata": {},
   "source": []
  }
 ],
 "metadata": {
  "kernelspec": {
   "display_name": "Python 3",
   "language": "python",
   "name": "python3"
  },
  "language_info": {
   "codemirror_mode": {
    "name": "ipython",
    "version": 3
   },
   "file_extension": ".py",
   "mimetype": "text/x-python",
   "name": "python",
   "nbconvert_exporter": "python",
   "pygments_lexer": "ipython3",
   "version": "3.6.5"
  }
 },
 "nbformat": 4,
 "nbformat_minor": 2
}
